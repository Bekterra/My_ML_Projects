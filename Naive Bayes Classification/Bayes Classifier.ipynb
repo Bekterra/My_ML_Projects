{
 "cells": [
  {
   "cell_type": "code",
   "execution_count": 1,
   "metadata": {},
   "outputs": [],
   "source": [
    "# Import neccessary modules\n",
    "import numpy as np\n",
    "import os\n",
    "from collections import Counter\n",
    "from sklearn.naive_bayes import GaussianNB\n",
    "from sklearn.metrics import accuracy_score"
   ]
  },
  {
   "cell_type": "code",
   "execution_count": 2,
   "metadata": {},
   "outputs": [],
   "source": [
    "#make_Dictionary reads the email files from a folder, constructs a dictionary for all words. \n",
    "#Next, we delete words of length 1 and that are not purely alphabetical.\n",
    "\n",
    "def make_Dictionary(root_dir):\n",
    "   all_words = []\n",
    "   emails = [os.path.join(root_dir,f) for f in os.listdir(root_dir)]\n",
    "   for mail in emails:\n",
    "        with open(mail) as m:\n",
    "            for line in m:\n",
    "                words = line.split()\n",
    "                all_words += words\n",
    "   dictionary = Counter(all_words)\n",
    "\n",
    "   # if you have python version 3.x use commented version.\n",
    "   # list_to_remove = list(dictionary)\n",
    "   list_to_remove = list(dictionary)\n",
    "\n",
    "   for item in list_to_remove:\n",
    "       # remove if numerical. \n",
    "       if item.isalpha() == False:\n",
    "           del dictionary[item]\n",
    "       elif len(item) == 1:\n",
    "               del dictionary[item]\n",
    "    # consider only most 3000 common words in dictionary.\n",
    "\n",
    "   dictionary = dictionary.most_common(3000)\n",
    "\n",
    "   return dictionary"
   ]
  },
  {
   "cell_type": "code",
   "execution_count": 3,
   "metadata": {},
   "outputs": [],
   "source": [
    "#Now we have dictionary function. Next with the help of dictionary, we generate a label and word frequency matrix\n",
    "def extract_features(mail_dir):\n",
    "  files = [os.path.join(mail_dir,fi) for fi in os.listdir(mail_dir)]\n",
    "  features_matrix = np.zeros((len(files),3000))\n",
    "  train_labels = np.zeros(len(files))\n",
    "  count = 0;\n",
    "  docID = 0;\n",
    "  for fil in files:\n",
    "    with open(fil) as fi:\n",
    "      for i,line in enumerate(fi):\n",
    "        if i == 2:\n",
    "          words = line.split()\n",
    "          for word in words:\n",
    "            wordID = 0\n",
    "            for i,d in enumerate(dictionary):\n",
    "              if d[0] == word:\n",
    "                wordID = i\n",
    "                features_matrix[docID,wordID] = words.count(word)\n",
    "      train_labels[docID] = 0;\n",
    "      filepathTokens = fil.split('/')\n",
    "      lastToken = filepathTokens[len(filepathTokens) - 1]\n",
    "      if lastToken.startswith(\"spmsg\"):\n",
    "          train_labels[docID] = 1;\n",
    "          count = count + 1\n",
    "      docID = docID + 1\n",
    "  return features_matrix, train_labels"
   ]
  },
  {
   "cell_type": "code",
   "execution_count": 6,
   "metadata": {},
   "outputs": [
    {
     "name": "stdout",
     "output_type": "stream",
     "text": [
      "reading and processing emails from file.\n"
     ]
    }
   ],
   "source": [
    "# Loading datasets\n",
    "TRAIN_DIR = \"train-mails\"\n",
    "TEST_DIR = \"test-mails\"\n",
    "\n",
    "dictionary = make_Dictionary(TRAIN_DIR)\n",
    "\n",
    "# using functions mentioned above.\n",
    "print (\"reading and processing emails from file.\")\n",
    "features_matrix, labels = extract_features(TRAIN_DIR)\n",
    "test_feature_matrix, test_labels = extract_features(TEST_DIR)\n",
    "\n"
   ]
  },
  {
   "cell_type": "code",
   "execution_count": 7,
   "metadata": {},
   "outputs": [
    {
     "name": "stdout",
     "output_type": "stream",
     "text": [
      "Training model.\n",
      "FINISHED classifying. accuracy score : \n",
      "0.9653846153846154\n"
     ]
    }
   ],
   "source": [
    "#Gaussian is used in classification and it assumes that features follow a normal distribution.\n",
    "model = GaussianNB()\n",
    "print (\"Training model.\")\n",
    "#train model\n",
    "model.fit(features_matrix, labels)\n",
    "\n",
    "#predict\n",
    "predicted_labels = model.predict(test_feature_matrix)\n",
    "\n",
    "print (\"FINISHED classifying. accuracy score : \")\n",
    "print (accuracy_score(test_labels, predicted_labels))"
   ]
  },
  {
   "cell_type": "code",
   "execution_count": null,
   "metadata": {},
   "outputs": [],
   "source": []
  }
 ],
 "metadata": {
  "kernelspec": {
   "display_name": "Python 3",
   "language": "python",
   "name": "python3"
  },
  "language_info": {
   "codemirror_mode": {
    "name": "ipython",
    "version": 3
   },
   "file_extension": ".py",
   "mimetype": "text/x-python",
   "name": "python",
   "nbconvert_exporter": "python",
   "pygments_lexer": "ipython3",
   "version": "3.6.4"
  }
 },
 "nbformat": 4,
 "nbformat_minor": 2
}
